{
  "cells": [
    {
      "cell_type": "code",
      "execution_count": 5,
      "metadata": {
        "id": "AW5U44O323tg"
      },
      "outputs": [],
      "source": [
        "#@title Install\n",
        "!pip install wfdb > /dev/null 2>&1;"
      ]
    },
    {
      "cell_type": "code",
      "execution_count": 6,
      "metadata": {
        "id": "WUDJytf03Gz7"
      },
      "outputs": [],
      "source": [
        "#!/usr/bin/env python3\n",
        "# -*- coding: utf-8 -*-\n",
        "\"\"\"\n",
        "@author: isysrgcom\n",
        "\"\"\"\n",
        "import wfdb\n",
        "from wfdb import io, plot\n",
        "import os\n",
        "import pandas as pd\n",
        "import matplotlib.pyplot as plt\n",
        "import numpy as np\n",
        "from sklearn.model_selection import train_test_split\n",
        "import glob\n",
        "from scipy.io import loadmat"
      ]
    },
    {
      "cell_type": "code",
      "execution_count": 1,
      "metadata": {
        "colab": {
          "base_uri": "https://localhost:8080/"
        },
        "id": "aT9RmtLJ530X",
        "outputId": "a5f5fe74-3acb-4848-a087-1655d38a12d7"
      },
      "outputs": [
        {
          "name": "stdout",
          "output_type": "stream",
          "text": [
            "Mounted at /content/drive\n"
          ]
        }
      ],
      "source": [
        "from google.colab import drive\n",
        "drive.mount('/content/drive')\n"
      ]
    },
    {
      "cell_type": "code",
      "execution_count": 8,
      "metadata": {
        "colab": {
          "base_uri": "https://localhost:8080/"
        },
        "id": "_Viyw1z1wn_H",
        "outputId": "f229a0cb-7316-4a25-f175-45af695de0bc"
      },
      "outputs": [
        {
          "data": {
            "text/plain": [
              "(48,\n",
              " [3,\n",
              "  3,\n",
              "  3,\n",
              "  3,\n",
              "  3,\n",
              "  3,\n",
              "  3,\n",
              "  3,\n",
              "  3,\n",
              "  3,\n",
              "  3,\n",
              "  3,\n",
              "  3,\n",
              "  3,\n",
              "  3,\n",
              "  3,\n",
              "  3,\n",
              "  3,\n",
              "  3,\n",
              "  3,\n",
              "  3,\n",
              "  3,\n",
              "  3,\n",
              "  3,\n",
              "  3,\n",
              "  3,\n",
              "  3,\n",
              "  3,\n",
              "  3,\n",
              "  3,\n",
              "  3,\n",
              "  3,\n",
              "  3,\n",
              "  3,\n",
              "  3,\n",
              "  3,\n",
              "  3,\n",
              "  3,\n",
              "  3,\n",
              "  3,\n",
              "  3,\n",
              "  3,\n",
              "  3,\n",
              "  3,\n",
              "  3,\n",
              "  3,\n",
              "  3,\n",
              "  3])"
            ]
          },
          "execution_count": 8,
          "metadata": {},
          "output_type": "execute_result"
        }
      ],
      "source": [
        "\n",
        "# BIDMC\n",
        "\n",
        "# First get the list of available records and then download\n",
        "# those records and store them in data_folder.\n",
        "record_names = io.get_record_list('chfdb')\n",
        "#io.dl_database('ptbdb', data_folder, record_names) // untuk download data ke folder\n",
        "\n",
        "all_data = []\n",
        "all_label = []\n",
        "\n",
        "\n",
        "\n",
        "\n",
        "# IMPORT MITBIH HEALTH SINUS\n",
        "\n",
        "paths_data = glob.glob('/content/drive/MyDrive/HeartDisease/Data/mit-bih-arrhythmia-database-1.0.0/*.dat', recursive=True)\n",
        "\n",
        "for idx, dta in enumerate(paths_data):\n",
        "    dataa = glob.glob(dta)\n",
        "    for pathdata in dataa:\n",
        "        pathdata = os.path.splitext(pathdata)[0]\n",
        "        record = wfdb.rdrecord(pathdata,sampfrom=0)\n",
        "        record_dict = record.__dict__\n",
        "        sinyal = record_dict['p_signal'][:,0]\n",
        "        all_data.append(sinyal)\n",
        "        all_label.append(3)\n",
        "\n",
        "len(all_data), all_label"
      ]
    },
    {
      "cell_type": "code",
      "execution_count": 16,
      "metadata": {
        "id": "xxvv_rmtgOzw"
      },
      "outputs": [],
      "source": [
        "\n",
        "\"\"\"Discrete Wavelet Transform\"\"\"\n",
        "\n",
        "import pywt\n",
        "from statsmodels.robust import mad\n",
        "\n",
        "#DISCRETE WAVELET TRANSFORM\n",
        "mf = ['sym8']\n",
        "\n",
        "hasil = []\n",
        "for i in range(len(all_data)):\n",
        "    data = []\n",
        "    for j in range(len(mf)):\n",
        "        w=pywt.Wavelet(mf[j])\n",
        "        ca=[]\n",
        "        cd=[]\n",
        "        levels=8\n",
        "        l = all_data[i]\n",
        "\n",
        "        for level in range(levels):\n",
        "            (l, h)=pywt.dwt(l, w)\n",
        "            ca.append(l)\n",
        "            cd.append(h)\n",
        "\n",
        "        l = [0]*len(l)\n",
        "        l=np.array(l)\n",
        "        cd.append(l)\n",
        "\n",
        "        tho = mad(cd[0])\n",
        "        uthr = tho*np.sqrt(2*np.log(len(all_data[i])))\n",
        "\n",
        "        new_cd = []\n",
        "        for h in cd :\n",
        "            new_cd.append(pywt.threshold(h, value=uthr, mode='soft')) #soft thresolding\n",
        "\n",
        "        cd_rec = new_cd.copy()\n",
        "        new_cd.reverse()\n",
        "        new_signal = pywt.waverec(new_cd, w)\n",
        "        data.append(new_signal)\n",
        "        x = np.asarray(data)\n",
        "        x= x.transpose()\n",
        "        x = x.flatten()\n",
        "        hasil.append(x)\n",
        "\n",
        "\n",
        "\n",
        "\"\"\"Normalize Signal using Normalize Bound\"\"\"\n",
        "\n",
        "from wfdb.processing import normalize_bound\n",
        "\n",
        "normalisasi = []\n",
        "for i in range(len(hasil)):\n",
        "    x = normalize_bound(hasil[i], lb=0, ub=1)\n",
        "    normalisasi.append(x)\n",
        "\n",
        "\"\"\"Signal Segmentation\"\"\"\n",
        "\n",
        "segment_all_signal = []\n",
        "segment_all_label = []\n",
        "\n",
        "for i in range(len(normalisasi)):\n",
        "\n",
        "    temp_signal = normalisasi[i]\n",
        "    pjg_sinyal = len(temp_signal)\n",
        "    baca = all_label[i]\n",
        "\n",
        "    for x in range(0, len(temp_signal), 2700):\n",
        "\n",
        "        N = (2700+x) - pjg_sinyal\n",
        "        if (x+2700 < pjg_sinyal):\n",
        "            ritme = temp_signal[x:x+2700]\n",
        "            segment_all_signal.append(ritme)\n",
        "            segment_all_label.append(baca)\n",
        "\n",
        "        elif(N<2600):\n",
        "            ritme= temp_signal[x:x+2700]\n",
        "            ritme = np.pad(ritme, (0, N), 'constant')\n",
        "            segment_all_signal.append(ritme)\n",
        "            segment_all_label.append(baca)\n",
        "\n",
        "for i in range(len(segment_all_label)):\n",
        "    all_data.append(segment_all_signal[i])\n",
        "    all_label.append(segment_all_label[i])\n",
        "\n",
        "sum(float(num) == 8 for num in all_label) #Check Data for every label\n",
        "\n",
        "#Splitting Dataset\n",
        "all_data, sinyal_unseen, all_label, label_unseen=train_test_split(segment_all_signal, segment_all_label,test_size=0.1)\n",
        "\n",
        "\n",
        "# \"\"\"Pickling Data\"\"\"\n",
        "\n",
        "import pickle\n",
        "\n",
        "with open('/content/drive/MyDrive/HeartDisease/Data/mit-bih-arrhythmia-database-1.0.0/DATA2700/DATA2700', 'wb') as f:\n",
        "    pickle.dump(all_data, f)\n",
        "\n",
        "with open('/content/drive/MyDrive/HeartDisease/Data/mit-bih-arrhythmia-database-1.0.0/DATA2700/LABEL2700', 'wb') as f:\n",
        "    pickle.dump(all_label, f)\n",
        "\n",
        "\n"
      ]
    },
    {
      "cell_type": "code",
      "execution_count": 17,
      "metadata": {
        "colab": {
          "base_uri": "https://localhost:8080/",
          "height": 452
        },
        "id": "yHBMidtU6aZQ",
        "outputId": "c862eb5b-c8fe-4fea-c9f9-467c7a88c114"
      },
      "outputs": [
        {
          "data": {
            "image/png": "[encoded data removed]",
            "text/plain": [
              "<Figure size 640x480 with 1 Axes>"
            ]
          },
          "metadata": {},
          "output_type": "display_data"
        }
      ],
      "source": [
        "\n",
        "signal = all_data[0][1:1200]\n",
        "plt.plot(signal)\n",
        "plt.title('Plot of .dat file')\n",
        "plt.show()"
      ]
    },
    {
      "cell_type": "code",
      "execution_count": null,
      "metadata": {
        "id": "AOkP05jFArdW"
      },
      "outputs": [],
      "source": []
    }
  ],
  "metadata": {
    "colab": {
      "provenance": []
    },
    "kernelspec": {
      "display_name": "Python 3",
      "name": "python3"
    },
    "language_info": {
      "name": "python"
    }
  },
  "nbformat": 4,
  "nbformat_minor": 0
}
